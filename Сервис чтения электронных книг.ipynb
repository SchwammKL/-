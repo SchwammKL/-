{
 "cells": [
  {
   "cell_type": "markdown",
   "metadata": {},
   "source": [
    "# Анализ данных сервиса по чтению книг по подписке\n",
    "Коронавирус застал мир врасплох, изменив привычный порядок вещей. На какое-то время жители городов перестали выходить на улицу, посещать кафе и торговые центры. Зато стало больше времени для книг. Это заметили стартаперы — и бросились создавать приложения для тех, кто любит читать.\n",
    "\n",
    "Ваша компания решила быть на волне и купила крупный сервис для чтения книг по подписке. Ваша первая задача как аналитика — проанализировать базу данных.\n",
    "\n",
    "В ней — информация о книгах, издательствах, авторах, а также пользовательские обзоры книг. Эти данные помогут сформулировать ценностное предложение для нового продукта."
   ]
  },
  {
   "cell_type": "code",
   "execution_count": 1,
   "metadata": {},
   "outputs": [],
   "source": [
    "# импортируем библиотеки \n",
    "import pandas as pd \n",
    "from sqlalchemy import text, create_engine "
   ]
  },
  {
   "cell_type": "code",
   "execution_count": 2,
   "metadata": {},
   "outputs": [],
   "source": [
    "# устанавливаем параметры \n",
    "db_config = {'user': 'praktikum_student', # имя пользователя \n",
    "'pwd': 'Sdf4$2;d-d30pp', # пароль \n",
    "'host': 'rc1b-wcoijxj3yxfsf3fs.mdb.yandexcloud.net', \n",
    "'port': 6432, # порт подключения \n",
    "'db': 'data-analyst-final-project-db'} # название базы данных \n",
    "connection_string = 'postgresql://{user}:{pwd}@{host}:{port}/{db}'.format(**db_config) "
   ]
  },
  {
   "cell_type": "code",
   "execution_count": 3,
   "metadata": {},
   "outputs": [],
   "source": [
    "# сохраняем коннектор \n",
    "engine = create_engine(connection_string, connect_args={'sslmode':'require'})\n",
    "con=engine.connect()"
   ]
  },
  {
   "cell_type": "markdown",
   "metadata": {},
   "source": [
    "Выведем для каждой таблицы количество записей, формат данных колонок и первые пять строк таблицы."
   ]
  },
  {
   "cell_type": "code",
   "execution_count": 4,
   "metadata": {},
   "outputs": [
    {
     "data": {
      "text/plain": [
       "'Таблица books'"
      ]
     },
     "metadata": {},
     "output_type": "display_data"
    },
    {
     "data": {
      "text/html": [
       "<div>\n",
       "<style scoped>\n",
       "    .dataframe tbody tr th:only-of-type {\n",
       "        vertical-align: middle;\n",
       "    }\n",
       "\n",
       "    .dataframe tbody tr th {\n",
       "        vertical-align: top;\n",
       "    }\n",
       "\n",
       "    .dataframe thead th {\n",
       "        text-align: right;\n",
       "    }\n",
       "</style>\n",
       "<table border=\"1\" class=\"dataframe\">\n",
       "  <thead>\n",
       "    <tr style=\"text-align: right;\">\n",
       "      <th></th>\n",
       "      <th>count</th>\n",
       "    </tr>\n",
       "  </thead>\n",
       "  <tbody>\n",
       "    <tr>\n",
       "      <th>0</th>\n",
       "      <td>1000</td>\n",
       "    </tr>\n",
       "  </tbody>\n",
       "</table>\n",
       "</div>"
      ],
      "text/plain": [
       "   count\n",
       "0   1000"
      ]
     },
     "metadata": {},
     "output_type": "display_data"
    },
    {
     "data": {
      "text/html": [
       "<div>\n",
       "<style scoped>\n",
       "    .dataframe tbody tr th:only-of-type {\n",
       "        vertical-align: middle;\n",
       "    }\n",
       "\n",
       "    .dataframe tbody tr th {\n",
       "        vertical-align: top;\n",
       "    }\n",
       "\n",
       "    .dataframe thead th {\n",
       "        text-align: right;\n",
       "    }\n",
       "</style>\n",
       "<table border=\"1\" class=\"dataframe\">\n",
       "  <thead>\n",
       "    <tr style=\"text-align: right;\">\n",
       "      <th></th>\n",
       "      <th>column_name</th>\n",
       "      <th>column_default</th>\n",
       "      <th>data_type</th>\n",
       "    </tr>\n",
       "  </thead>\n",
       "  <tbody>\n",
       "    <tr>\n",
       "      <th>0</th>\n",
       "      <td>book_id</td>\n",
       "      <td>None</td>\n",
       "      <td>integer</td>\n",
       "    </tr>\n",
       "    <tr>\n",
       "      <th>1</th>\n",
       "      <td>author_id</td>\n",
       "      <td>None</td>\n",
       "      <td>integer</td>\n",
       "    </tr>\n",
       "    <tr>\n",
       "      <th>2</th>\n",
       "      <td>num_pages</td>\n",
       "      <td>None</td>\n",
       "      <td>integer</td>\n",
       "    </tr>\n",
       "    <tr>\n",
       "      <th>3</th>\n",
       "      <td>publication_date</td>\n",
       "      <td>None</td>\n",
       "      <td>date</td>\n",
       "    </tr>\n",
       "    <tr>\n",
       "      <th>4</th>\n",
       "      <td>publisher_id</td>\n",
       "      <td>None</td>\n",
       "      <td>integer</td>\n",
       "    </tr>\n",
       "    <tr>\n",
       "      <th>5</th>\n",
       "      <td>title</td>\n",
       "      <td>None</td>\n",
       "      <td>text</td>\n",
       "    </tr>\n",
       "  </tbody>\n",
       "</table>\n",
       "</div>"
      ],
      "text/plain": [
       "        column_name column_default data_type\n",
       "0           book_id           None   integer\n",
       "1         author_id           None   integer\n",
       "2         num_pages           None   integer\n",
       "3  publication_date           None      date\n",
       "4      publisher_id           None   integer\n",
       "5             title           None      text"
      ]
     },
     "metadata": {},
     "output_type": "display_data"
    },
    {
     "data": {
      "text/html": [
       "<div>\n",
       "<style scoped>\n",
       "    .dataframe tbody tr th:only-of-type {\n",
       "        vertical-align: middle;\n",
       "    }\n",
       "\n",
       "    .dataframe tbody tr th {\n",
       "        vertical-align: top;\n",
       "    }\n",
       "\n",
       "    .dataframe thead th {\n",
       "        text-align: right;\n",
       "    }\n",
       "</style>\n",
       "<table border=\"1\" class=\"dataframe\">\n",
       "  <thead>\n",
       "    <tr style=\"text-align: right;\">\n",
       "      <th></th>\n",
       "      <th>book_id</th>\n",
       "      <th>author_id</th>\n",
       "      <th>title</th>\n",
       "      <th>num_pages</th>\n",
       "      <th>publication_date</th>\n",
       "      <th>publisher_id</th>\n",
       "    </tr>\n",
       "  </thead>\n",
       "  <tbody>\n",
       "    <tr>\n",
       "      <th>0</th>\n",
       "      <td>1</td>\n",
       "      <td>546</td>\n",
       "      <td>'Salem's Lot</td>\n",
       "      <td>594</td>\n",
       "      <td>2005-11-01</td>\n",
       "      <td>93</td>\n",
       "    </tr>\n",
       "    <tr>\n",
       "      <th>1</th>\n",
       "      <td>2</td>\n",
       "      <td>465</td>\n",
       "      <td>1 000 Places to See Before You Die</td>\n",
       "      <td>992</td>\n",
       "      <td>2003-05-22</td>\n",
       "      <td>336</td>\n",
       "    </tr>\n",
       "    <tr>\n",
       "      <th>2</th>\n",
       "      <td>3</td>\n",
       "      <td>407</td>\n",
       "      <td>13 Little Blue Envelopes (Little Blue Envelope...</td>\n",
       "      <td>322</td>\n",
       "      <td>2010-12-21</td>\n",
       "      <td>135</td>\n",
       "    </tr>\n",
       "    <tr>\n",
       "      <th>3</th>\n",
       "      <td>4</td>\n",
       "      <td>82</td>\n",
       "      <td>1491: New Revelations of the Americas Before C...</td>\n",
       "      <td>541</td>\n",
       "      <td>2006-10-10</td>\n",
       "      <td>309</td>\n",
       "    </tr>\n",
       "    <tr>\n",
       "      <th>4</th>\n",
       "      <td>5</td>\n",
       "      <td>125</td>\n",
       "      <td>1776</td>\n",
       "      <td>386</td>\n",
       "      <td>2006-07-04</td>\n",
       "      <td>268</td>\n",
       "    </tr>\n",
       "  </tbody>\n",
       "</table>\n",
       "</div>"
      ],
      "text/plain": [
       "   book_id  author_id                                              title  \\\n",
       "0        1        546                                       'Salem's Lot   \n",
       "1        2        465                 1 000 Places to See Before You Die   \n",
       "2        3        407  13 Little Blue Envelopes (Little Blue Envelope...   \n",
       "3        4         82  1491: New Revelations of the Americas Before C...   \n",
       "4        5        125                                               1776   \n",
       "\n",
       "   num_pages publication_date  publisher_id  \n",
       "0        594       2005-11-01            93  \n",
       "1        992       2003-05-22           336  \n",
       "2        322       2010-12-21           135  \n",
       "3        541       2006-10-10           309  \n",
       "4        386       2006-07-04           268  "
      ]
     },
     "metadata": {},
     "output_type": "display_data"
    },
    {
     "data": {
      "text/plain": [
       "'Таблица authors'"
      ]
     },
     "metadata": {},
     "output_type": "display_data"
    },
    {
     "data": {
      "text/html": [
       "<div>\n",
       "<style scoped>\n",
       "    .dataframe tbody tr th:only-of-type {\n",
       "        vertical-align: middle;\n",
       "    }\n",
       "\n",
       "    .dataframe tbody tr th {\n",
       "        vertical-align: top;\n",
       "    }\n",
       "\n",
       "    .dataframe thead th {\n",
       "        text-align: right;\n",
       "    }\n",
       "</style>\n",
       "<table border=\"1\" class=\"dataframe\">\n",
       "  <thead>\n",
       "    <tr style=\"text-align: right;\">\n",
       "      <th></th>\n",
       "      <th>count</th>\n",
       "    </tr>\n",
       "  </thead>\n",
       "  <tbody>\n",
       "    <tr>\n",
       "      <th>0</th>\n",
       "      <td>636</td>\n",
       "    </tr>\n",
       "  </tbody>\n",
       "</table>\n",
       "</div>"
      ],
      "text/plain": [
       "   count\n",
       "0    636"
      ]
     },
     "metadata": {},
     "output_type": "display_data"
    },
    {
     "data": {
      "text/html": [
       "<div>\n",
       "<style scoped>\n",
       "    .dataframe tbody tr th:only-of-type {\n",
       "        vertical-align: middle;\n",
       "    }\n",
       "\n",
       "    .dataframe tbody tr th {\n",
       "        vertical-align: top;\n",
       "    }\n",
       "\n",
       "    .dataframe thead th {\n",
       "        text-align: right;\n",
       "    }\n",
       "</style>\n",
       "<table border=\"1\" class=\"dataframe\">\n",
       "  <thead>\n",
       "    <tr style=\"text-align: right;\">\n",
       "      <th></th>\n",
       "      <th>column_name</th>\n",
       "      <th>column_default</th>\n",
       "      <th>data_type</th>\n",
       "    </tr>\n",
       "  </thead>\n",
       "  <tbody>\n",
       "    <tr>\n",
       "      <th>0</th>\n",
       "      <td>author_id</td>\n",
       "      <td>None</td>\n",
       "      <td>integer</td>\n",
       "    </tr>\n",
       "    <tr>\n",
       "      <th>1</th>\n",
       "      <td>author</td>\n",
       "      <td>None</td>\n",
       "      <td>text</td>\n",
       "    </tr>\n",
       "  </tbody>\n",
       "</table>\n",
       "</div>"
      ],
      "text/plain": [
       "  column_name column_default data_type\n",
       "0   author_id           None   integer\n",
       "1      author           None      text"
      ]
     },
     "metadata": {},
     "output_type": "display_data"
    },
    {
     "data": {
      "text/html": [
       "<div>\n",
       "<style scoped>\n",
       "    .dataframe tbody tr th:only-of-type {\n",
       "        vertical-align: middle;\n",
       "    }\n",
       "\n",
       "    .dataframe tbody tr th {\n",
       "        vertical-align: top;\n",
       "    }\n",
       "\n",
       "    .dataframe thead th {\n",
       "        text-align: right;\n",
       "    }\n",
       "</style>\n",
       "<table border=\"1\" class=\"dataframe\">\n",
       "  <thead>\n",
       "    <tr style=\"text-align: right;\">\n",
       "      <th></th>\n",
       "      <th>author_id</th>\n",
       "      <th>author</th>\n",
       "    </tr>\n",
       "  </thead>\n",
       "  <tbody>\n",
       "    <tr>\n",
       "      <th>0</th>\n",
       "      <td>1</td>\n",
       "      <td>A.S. Byatt</td>\n",
       "    </tr>\n",
       "    <tr>\n",
       "      <th>1</th>\n",
       "      <td>2</td>\n",
       "      <td>Aesop/Laura Harris/Laura Gibbs</td>\n",
       "    </tr>\n",
       "    <tr>\n",
       "      <th>2</th>\n",
       "      <td>3</td>\n",
       "      <td>Agatha Christie</td>\n",
       "    </tr>\n",
       "    <tr>\n",
       "      <th>3</th>\n",
       "      <td>4</td>\n",
       "      <td>Alan Brennert</td>\n",
       "    </tr>\n",
       "    <tr>\n",
       "      <th>4</th>\n",
       "      <td>5</td>\n",
       "      <td>Alan Moore/David   Lloyd</td>\n",
       "    </tr>\n",
       "  </tbody>\n",
       "</table>\n",
       "</div>"
      ],
      "text/plain": [
       "   author_id                          author\n",
       "0          1                      A.S. Byatt\n",
       "1          2  Aesop/Laura Harris/Laura Gibbs\n",
       "2          3                 Agatha Christie\n",
       "3          4                   Alan Brennert\n",
       "4          5        Alan Moore/David   Lloyd"
      ]
     },
     "metadata": {},
     "output_type": "display_data"
    },
    {
     "data": {
      "text/plain": [
       "'Таблица publishers'"
      ]
     },
     "metadata": {},
     "output_type": "display_data"
    },
    {
     "data": {
      "text/html": [
       "<div>\n",
       "<style scoped>\n",
       "    .dataframe tbody tr th:only-of-type {\n",
       "        vertical-align: middle;\n",
       "    }\n",
       "\n",
       "    .dataframe tbody tr th {\n",
       "        vertical-align: top;\n",
       "    }\n",
       "\n",
       "    .dataframe thead th {\n",
       "        text-align: right;\n",
       "    }\n",
       "</style>\n",
       "<table border=\"1\" class=\"dataframe\">\n",
       "  <thead>\n",
       "    <tr style=\"text-align: right;\">\n",
       "      <th></th>\n",
       "      <th>count</th>\n",
       "    </tr>\n",
       "  </thead>\n",
       "  <tbody>\n",
       "    <tr>\n",
       "      <th>0</th>\n",
       "      <td>340</td>\n",
       "    </tr>\n",
       "  </tbody>\n",
       "</table>\n",
       "</div>"
      ],
      "text/plain": [
       "   count\n",
       "0    340"
      ]
     },
     "metadata": {},
     "output_type": "display_data"
    },
    {
     "data": {
      "text/html": [
       "<div>\n",
       "<style scoped>\n",
       "    .dataframe tbody tr th:only-of-type {\n",
       "        vertical-align: middle;\n",
       "    }\n",
       "\n",
       "    .dataframe tbody tr th {\n",
       "        vertical-align: top;\n",
       "    }\n",
       "\n",
       "    .dataframe thead th {\n",
       "        text-align: right;\n",
       "    }\n",
       "</style>\n",
       "<table border=\"1\" class=\"dataframe\">\n",
       "  <thead>\n",
       "    <tr style=\"text-align: right;\">\n",
       "      <th></th>\n",
       "      <th>column_name</th>\n",
       "      <th>column_default</th>\n",
       "      <th>data_type</th>\n",
       "    </tr>\n",
       "  </thead>\n",
       "  <tbody>\n",
       "    <tr>\n",
       "      <th>0</th>\n",
       "      <td>publisher_id</td>\n",
       "      <td>None</td>\n",
       "      <td>integer</td>\n",
       "    </tr>\n",
       "    <tr>\n",
       "      <th>1</th>\n",
       "      <td>publisher</td>\n",
       "      <td>None</td>\n",
       "      <td>text</td>\n",
       "    </tr>\n",
       "  </tbody>\n",
       "</table>\n",
       "</div>"
      ],
      "text/plain": [
       "    column_name column_default data_type\n",
       "0  publisher_id           None   integer\n",
       "1     publisher           None      text"
      ]
     },
     "metadata": {},
     "output_type": "display_data"
    },
    {
     "data": {
      "text/html": [
       "<div>\n",
       "<style scoped>\n",
       "    .dataframe tbody tr th:only-of-type {\n",
       "        vertical-align: middle;\n",
       "    }\n",
       "\n",
       "    .dataframe tbody tr th {\n",
       "        vertical-align: top;\n",
       "    }\n",
       "\n",
       "    .dataframe thead th {\n",
       "        text-align: right;\n",
       "    }\n",
       "</style>\n",
       "<table border=\"1\" class=\"dataframe\">\n",
       "  <thead>\n",
       "    <tr style=\"text-align: right;\">\n",
       "      <th></th>\n",
       "      <th>publisher_id</th>\n",
       "      <th>publisher</th>\n",
       "    </tr>\n",
       "  </thead>\n",
       "  <tbody>\n",
       "    <tr>\n",
       "      <th>0</th>\n",
       "      <td>1</td>\n",
       "      <td>Ace</td>\n",
       "    </tr>\n",
       "    <tr>\n",
       "      <th>1</th>\n",
       "      <td>2</td>\n",
       "      <td>Ace Book</td>\n",
       "    </tr>\n",
       "    <tr>\n",
       "      <th>2</th>\n",
       "      <td>3</td>\n",
       "      <td>Ace Books</td>\n",
       "    </tr>\n",
       "    <tr>\n",
       "      <th>3</th>\n",
       "      <td>4</td>\n",
       "      <td>Ace Hardcover</td>\n",
       "    </tr>\n",
       "    <tr>\n",
       "      <th>4</th>\n",
       "      <td>5</td>\n",
       "      <td>Addison Wesley Publishing Company</td>\n",
       "    </tr>\n",
       "  </tbody>\n",
       "</table>\n",
       "</div>"
      ],
      "text/plain": [
       "   publisher_id                          publisher\n",
       "0             1                                Ace\n",
       "1             2                           Ace Book\n",
       "2             3                          Ace Books\n",
       "3             4                      Ace Hardcover\n",
       "4             5  Addison Wesley Publishing Company"
      ]
     },
     "metadata": {},
     "output_type": "display_data"
    },
    {
     "data": {
      "text/plain": [
       "'Таблица ratings'"
      ]
     },
     "metadata": {},
     "output_type": "display_data"
    },
    {
     "data": {
      "text/html": [
       "<div>\n",
       "<style scoped>\n",
       "    .dataframe tbody tr th:only-of-type {\n",
       "        vertical-align: middle;\n",
       "    }\n",
       "\n",
       "    .dataframe tbody tr th {\n",
       "        vertical-align: top;\n",
       "    }\n",
       "\n",
       "    .dataframe thead th {\n",
       "        text-align: right;\n",
       "    }\n",
       "</style>\n",
       "<table border=\"1\" class=\"dataframe\">\n",
       "  <thead>\n",
       "    <tr style=\"text-align: right;\">\n",
       "      <th></th>\n",
       "      <th>count</th>\n",
       "    </tr>\n",
       "  </thead>\n",
       "  <tbody>\n",
       "    <tr>\n",
       "      <th>0</th>\n",
       "      <td>6456</td>\n",
       "    </tr>\n",
       "  </tbody>\n",
       "</table>\n",
       "</div>"
      ],
      "text/plain": [
       "   count\n",
       "0   6456"
      ]
     },
     "metadata": {},
     "output_type": "display_data"
    },
    {
     "data": {
      "text/html": [
       "<div>\n",
       "<style scoped>\n",
       "    .dataframe tbody tr th:only-of-type {\n",
       "        vertical-align: middle;\n",
       "    }\n",
       "\n",
       "    .dataframe tbody tr th {\n",
       "        vertical-align: top;\n",
       "    }\n",
       "\n",
       "    .dataframe thead th {\n",
       "        text-align: right;\n",
       "    }\n",
       "</style>\n",
       "<table border=\"1\" class=\"dataframe\">\n",
       "  <thead>\n",
       "    <tr style=\"text-align: right;\">\n",
       "      <th></th>\n",
       "      <th>column_name</th>\n",
       "      <th>column_default</th>\n",
       "      <th>data_type</th>\n",
       "    </tr>\n",
       "  </thead>\n",
       "  <tbody>\n",
       "    <tr>\n",
       "      <th>0</th>\n",
       "      <td>rating_id</td>\n",
       "      <td>None</td>\n",
       "      <td>integer</td>\n",
       "    </tr>\n",
       "    <tr>\n",
       "      <th>1</th>\n",
       "      <td>book_id</td>\n",
       "      <td>None</td>\n",
       "      <td>integer</td>\n",
       "    </tr>\n",
       "    <tr>\n",
       "      <th>2</th>\n",
       "      <td>rating</td>\n",
       "      <td>None</td>\n",
       "      <td>integer</td>\n",
       "    </tr>\n",
       "    <tr>\n",
       "      <th>3</th>\n",
       "      <td>username</td>\n",
       "      <td>None</td>\n",
       "      <td>text</td>\n",
       "    </tr>\n",
       "  </tbody>\n",
       "</table>\n",
       "</div>"
      ],
      "text/plain": [
       "  column_name column_default data_type\n",
       "0   rating_id           None   integer\n",
       "1     book_id           None   integer\n",
       "2      rating           None   integer\n",
       "3    username           None      text"
      ]
     },
     "metadata": {},
     "output_type": "display_data"
    },
    {
     "data": {
      "text/html": [
       "<div>\n",
       "<style scoped>\n",
       "    .dataframe tbody tr th:only-of-type {\n",
       "        vertical-align: middle;\n",
       "    }\n",
       "\n",
       "    .dataframe tbody tr th {\n",
       "        vertical-align: top;\n",
       "    }\n",
       "\n",
       "    .dataframe thead th {\n",
       "        text-align: right;\n",
       "    }\n",
       "</style>\n",
       "<table border=\"1\" class=\"dataframe\">\n",
       "  <thead>\n",
       "    <tr style=\"text-align: right;\">\n",
       "      <th></th>\n",
       "      <th>rating_id</th>\n",
       "      <th>book_id</th>\n",
       "      <th>username</th>\n",
       "      <th>rating</th>\n",
       "    </tr>\n",
       "  </thead>\n",
       "  <tbody>\n",
       "    <tr>\n",
       "      <th>0</th>\n",
       "      <td>1</td>\n",
       "      <td>1</td>\n",
       "      <td>ryanfranco</td>\n",
       "      <td>4</td>\n",
       "    </tr>\n",
       "    <tr>\n",
       "      <th>1</th>\n",
       "      <td>2</td>\n",
       "      <td>1</td>\n",
       "      <td>grantpatricia</td>\n",
       "      <td>2</td>\n",
       "    </tr>\n",
       "    <tr>\n",
       "      <th>2</th>\n",
       "      <td>3</td>\n",
       "      <td>1</td>\n",
       "      <td>brandtandrea</td>\n",
       "      <td>5</td>\n",
       "    </tr>\n",
       "    <tr>\n",
       "      <th>3</th>\n",
       "      <td>4</td>\n",
       "      <td>2</td>\n",
       "      <td>lorichen</td>\n",
       "      <td>3</td>\n",
       "    </tr>\n",
       "    <tr>\n",
       "      <th>4</th>\n",
       "      <td>5</td>\n",
       "      <td>2</td>\n",
       "      <td>mariokeller</td>\n",
       "      <td>2</td>\n",
       "    </tr>\n",
       "  </tbody>\n",
       "</table>\n",
       "</div>"
      ],
      "text/plain": [
       "   rating_id  book_id       username  rating\n",
       "0          1        1     ryanfranco       4\n",
       "1          2        1  grantpatricia       2\n",
       "2          3        1   brandtandrea       5\n",
       "3          4        2       lorichen       3\n",
       "4          5        2    mariokeller       2"
      ]
     },
     "metadata": {},
     "output_type": "display_data"
    },
    {
     "data": {
      "text/plain": [
       "'Таблица reviews'"
      ]
     },
     "metadata": {},
     "output_type": "display_data"
    },
    {
     "data": {
      "text/html": [
       "<div>\n",
       "<style scoped>\n",
       "    .dataframe tbody tr th:only-of-type {\n",
       "        vertical-align: middle;\n",
       "    }\n",
       "\n",
       "    .dataframe tbody tr th {\n",
       "        vertical-align: top;\n",
       "    }\n",
       "\n",
       "    .dataframe thead th {\n",
       "        text-align: right;\n",
       "    }\n",
       "</style>\n",
       "<table border=\"1\" class=\"dataframe\">\n",
       "  <thead>\n",
       "    <tr style=\"text-align: right;\">\n",
       "      <th></th>\n",
       "      <th>count</th>\n",
       "    </tr>\n",
       "  </thead>\n",
       "  <tbody>\n",
       "    <tr>\n",
       "      <th>0</th>\n",
       "      <td>2793</td>\n",
       "    </tr>\n",
       "  </tbody>\n",
       "</table>\n",
       "</div>"
      ],
      "text/plain": [
       "   count\n",
       "0   2793"
      ]
     },
     "metadata": {},
     "output_type": "display_data"
    },
    {
     "data": {
      "text/html": [
       "<div>\n",
       "<style scoped>\n",
       "    .dataframe tbody tr th:only-of-type {\n",
       "        vertical-align: middle;\n",
       "    }\n",
       "\n",
       "    .dataframe tbody tr th {\n",
       "        vertical-align: top;\n",
       "    }\n",
       "\n",
       "    .dataframe thead th {\n",
       "        text-align: right;\n",
       "    }\n",
       "</style>\n",
       "<table border=\"1\" class=\"dataframe\">\n",
       "  <thead>\n",
       "    <tr style=\"text-align: right;\">\n",
       "      <th></th>\n",
       "      <th>column_name</th>\n",
       "      <th>column_default</th>\n",
       "      <th>data_type</th>\n",
       "    </tr>\n",
       "  </thead>\n",
       "  <tbody>\n",
       "    <tr>\n",
       "      <th>0</th>\n",
       "      <td>review_id</td>\n",
       "      <td>None</td>\n",
       "      <td>integer</td>\n",
       "    </tr>\n",
       "    <tr>\n",
       "      <th>1</th>\n",
       "      <td>book_id</td>\n",
       "      <td>None</td>\n",
       "      <td>integer</td>\n",
       "    </tr>\n",
       "    <tr>\n",
       "      <th>2</th>\n",
       "      <td>username</td>\n",
       "      <td>None</td>\n",
       "      <td>text</td>\n",
       "    </tr>\n",
       "    <tr>\n",
       "      <th>3</th>\n",
       "      <td>text</td>\n",
       "      <td>None</td>\n",
       "      <td>text</td>\n",
       "    </tr>\n",
       "  </tbody>\n",
       "</table>\n",
       "</div>"
      ],
      "text/plain": [
       "  column_name column_default data_type\n",
       "0   review_id           None   integer\n",
       "1     book_id           None   integer\n",
       "2    username           None      text\n",
       "3        text           None      text"
      ]
     },
     "metadata": {},
     "output_type": "display_data"
    },
    {
     "data": {
      "text/html": [
       "<div>\n",
       "<style scoped>\n",
       "    .dataframe tbody tr th:only-of-type {\n",
       "        vertical-align: middle;\n",
       "    }\n",
       "\n",
       "    .dataframe tbody tr th {\n",
       "        vertical-align: top;\n",
       "    }\n",
       "\n",
       "    .dataframe thead th {\n",
       "        text-align: right;\n",
       "    }\n",
       "</style>\n",
       "<table border=\"1\" class=\"dataframe\">\n",
       "  <thead>\n",
       "    <tr style=\"text-align: right;\">\n",
       "      <th></th>\n",
       "      <th>review_id</th>\n",
       "      <th>book_id</th>\n",
       "      <th>username</th>\n",
       "      <th>text</th>\n",
       "    </tr>\n",
       "  </thead>\n",
       "  <tbody>\n",
       "    <tr>\n",
       "      <th>0</th>\n",
       "      <td>1</td>\n",
       "      <td>1</td>\n",
       "      <td>brandtandrea</td>\n",
       "      <td>Mention society tell send professor analysis. ...</td>\n",
       "    </tr>\n",
       "    <tr>\n",
       "      <th>1</th>\n",
       "      <td>2</td>\n",
       "      <td>1</td>\n",
       "      <td>ryanfranco</td>\n",
       "      <td>Foot glass pretty audience hit themselves. Amo...</td>\n",
       "    </tr>\n",
       "    <tr>\n",
       "      <th>2</th>\n",
       "      <td>3</td>\n",
       "      <td>2</td>\n",
       "      <td>lorichen</td>\n",
       "      <td>Listen treat keep worry. Miss husband tax but ...</td>\n",
       "    </tr>\n",
       "    <tr>\n",
       "      <th>3</th>\n",
       "      <td>4</td>\n",
       "      <td>3</td>\n",
       "      <td>johnsonamanda</td>\n",
       "      <td>Finally month interesting blue could nature cu...</td>\n",
       "    </tr>\n",
       "    <tr>\n",
       "      <th>4</th>\n",
       "      <td>5</td>\n",
       "      <td>3</td>\n",
       "      <td>scotttamara</td>\n",
       "      <td>Nation purpose heavy give wait song will. List...</td>\n",
       "    </tr>\n",
       "  </tbody>\n",
       "</table>\n",
       "</div>"
      ],
      "text/plain": [
       "   review_id  book_id       username  \\\n",
       "0          1        1   brandtandrea   \n",
       "1          2        1     ryanfranco   \n",
       "2          3        2       lorichen   \n",
       "3          4        3  johnsonamanda   \n",
       "4          5        3    scotttamara   \n",
       "\n",
       "                                                text  \n",
       "0  Mention society tell send professor analysis. ...  \n",
       "1  Foot glass pretty audience hit themselves. Amo...  \n",
       "2  Listen treat keep worry. Miss husband tax but ...  \n",
       "3  Finally month interesting blue could nature cu...  \n",
       "4  Nation purpose heavy give wait song will. List...  "
      ]
     },
     "metadata": {},
     "output_type": "display_data"
    }
   ],
   "source": [
    "tables=['books', 'authors', 'publishers', 'ratings', 'reviews']\n",
    "for i in range (0,len(tables)):\n",
    "    display('Таблица '+tables[i])\n",
    "    \n",
    "    query = 'select count(*) from '+tables[i]\n",
    "    display(pd.io.sql.read_sql(sql=text(query), con = con))\n",
    "    \n",
    "    query = 'SELECT column_name, column_default, data_type FROM INFORMATION_SCHEMA.COLUMNS WHERE table_name = \\''+tables[i]+'\\''\n",
    "    display(pd.io.sql.read_sql(sql=text(query), con = con))\n",
    "  \n",
    "    query = 'select * from '+tables[i]+' limit 5'\n",
    "    display(pd.io.sql.read_sql(sql=text(query), con = con))"
   ]
  },
  {
   "cell_type": "markdown",
   "metadata": {},
   "source": [
    "Нам предоставлены 5 таблиц, ниже приведена информация о форматах столбцов таблицы, отмечены первичный и вторичные ключи.\n",
    "\n",
    "__books__ - 1000 записей\n",
    "\n",
    "    book_id\tinteger PK\n",
    "    author_id\tinteger SK\n",
    "    num_pages\tinteger\n",
    "    publication_date\tdate\n",
    "    publisher_id\tinteger SK\n",
    "    title\ttext\n",
    "\n",
    "__authors__ - 636 записей\n",
    "\n",
    "    author_id\tinteger PK\n",
    "    author\ttext\n",
    "\n",
    "__publishers__ - 340 записей\n",
    "\n",
    "    publisher_id\tinteger PK\n",
    "    publisher\ttext\n",
    "\n",
    "__ratings__ - 6456 записей\n",
    "\n",
    "    rating_id\tinteger PK\n",
    "    book_id\tinteger SK\n",
    "    rating\tinteger\n",
    "    username\ttext\n",
    "\n",
    "__reviews__ - 2793 записи\n",
    "\n",
    "    review_id\tinteger PK\n",
    "    book_id\tinteger SK\n",
    "    username\ttext\n",
    "    text\ttext\n",
    "    \n",
    "По построению базы есть следующие соображения:\n",
    "\n",
    "1. Таблица книг построена таким образом, что может включать в себя лишь книги с одним автором. Книги с несколькими авторами можно обработать только объединяя авторов в одну строку, но это некорректная обработка.\n",
    "2. В таблице книг отсутствует информация о жанре, ISBN, языке издания\n",
    "3. В таблице книг не хватает поля \"под редакцией\" для книг-сборников статей/рассказов различных авторов. Можно также добавить какое-то поле/отдельную таблицу для связки серий книг и многотомников.\n",
    "4. Не хватает таблицы Users в которой бы были user_id и какие то данные о людях, осталяющих обзоры и оценки. Это бы позволило получать доп. данные и избегать путаницы при идентификации пользователя по не уникальному параметру username.\n",
    "5. Нет данных о датах оставления обзоров и оценок. Если для оценок отсутствие допустимо, то для обзоров дата может содержать полезную информацию."
   ]
  },
  {
   "cell_type": "markdown",
   "metadata": {},
   "source": [
    "#### Посчитайте, сколько книг вышло после 1 января 2000 года;"
   ]
  },
  {
   "cell_type": "code",
   "execution_count": 5,
   "metadata": {},
   "outputs": [
    {
     "data": {
      "text/plain": [
       "'После 01.01.2000 было выпущено 819 книг'"
      ]
     },
     "metadata": {},
     "output_type": "display_data"
    }
   ],
   "source": [
    "query = 'select count(*) from books where publication_date >\\'01.01.2000\\'' \n",
    "answer1 = pd.io.sql.read_sql(sql=text(query), con = con)\n",
    "display('После 01.01.2000 было выпущено '+str(answer1.iloc[0,0])+' книг')"
   ]
  },
  {
   "cell_type": "markdown",
   "metadata": {},
   "source": [
    "После 01.01.2000 было выпущено 819 книг."
   ]
  },
  {
   "cell_type": "markdown",
   "metadata": {},
   "source": [
    "#### Для каждой книги посчитайте количество обзоров и среднюю оценку;"
   ]
  },
  {
   "cell_type": "code",
   "execution_count": 6,
   "metadata": {},
   "outputs": [
    {
     "data": {
      "text/html": [
       "<div>\n",
       "<style scoped>\n",
       "    .dataframe tbody tr th:only-of-type {\n",
       "        vertical-align: middle;\n",
       "    }\n",
       "\n",
       "    .dataframe tbody tr th {\n",
       "        vertical-align: top;\n",
       "    }\n",
       "\n",
       "    .dataframe thead th {\n",
       "        text-align: right;\n",
       "    }\n",
       "</style>\n",
       "<table border=\"1\" class=\"dataframe\">\n",
       "  <thead>\n",
       "    <tr style=\"text-align: right;\">\n",
       "      <th></th>\n",
       "      <th>book_id</th>\n",
       "      <th>author_id</th>\n",
       "      <th>title</th>\n",
       "      <th>num_pages</th>\n",
       "      <th>publication_date</th>\n",
       "      <th>publisher_id</th>\n",
       "      <th>mean_rating</th>\n",
       "      <th>review_num</th>\n",
       "    </tr>\n",
       "  </thead>\n",
       "  <tbody>\n",
       "    <tr>\n",
       "      <th>0</th>\n",
       "      <td>652</td>\n",
       "      <td>3</td>\n",
       "      <td>The Body in the Library (Miss Marple  #3)</td>\n",
       "      <td>191</td>\n",
       "      <td>2006-09-01</td>\n",
       "      <td>50</td>\n",
       "      <td>4.500000</td>\n",
       "      <td>2.0</td>\n",
       "    </tr>\n",
       "    <tr>\n",
       "      <th>1</th>\n",
       "      <td>273</td>\n",
       "      <td>352</td>\n",
       "      <td>Galápagos</td>\n",
       "      <td>324</td>\n",
       "      <td>1999-01-12</td>\n",
       "      <td>88</td>\n",
       "      <td>4.500000</td>\n",
       "      <td>2.0</td>\n",
       "    </tr>\n",
       "    <tr>\n",
       "      <th>2</th>\n",
       "      <td>51</td>\n",
       "      <td>54</td>\n",
       "      <td>A Tree Grows in Brooklyn</td>\n",
       "      <td>496</td>\n",
       "      <td>2006-05-30</td>\n",
       "      <td>135</td>\n",
       "      <td>4.250000</td>\n",
       "      <td>5.0</td>\n",
       "    </tr>\n",
       "    <tr>\n",
       "      <th>3</th>\n",
       "      <td>951</td>\n",
       "      <td>540</td>\n",
       "      <td>Undaunted Courage: The Pioneering First Missio...</td>\n",
       "      <td>592</td>\n",
       "      <td>2003-10-06</td>\n",
       "      <td>269</td>\n",
       "      <td>4.000000</td>\n",
       "      <td>2.0</td>\n",
       "    </tr>\n",
       "    <tr>\n",
       "      <th>4</th>\n",
       "      <td>839</td>\n",
       "      <td>332</td>\n",
       "      <td>The Prophet</td>\n",
       "      <td>127</td>\n",
       "      <td>2010-01-01</td>\n",
       "      <td>251</td>\n",
       "      <td>4.285714</td>\n",
       "      <td>4.0</td>\n",
       "    </tr>\n",
       "    <tr>\n",
       "      <th>5</th>\n",
       "      <td>70</td>\n",
       "      <td>430</td>\n",
       "      <td>American Gods (American Gods  #1)</td>\n",
       "      <td>635</td>\n",
       "      <td>2005-03-04</td>\n",
       "      <td>150</td>\n",
       "      <td>4.000000</td>\n",
       "      <td>5.0</td>\n",
       "    </tr>\n",
       "    <tr>\n",
       "      <th>6</th>\n",
       "      <td>350</td>\n",
       "      <td>501</td>\n",
       "      <td>Influence: The Psychology of Persuasion</td>\n",
       "      <td>320</td>\n",
       "      <td>2006-12-26</td>\n",
       "      <td>127</td>\n",
       "      <td>4.333333</td>\n",
       "      <td>3.0</td>\n",
       "    </tr>\n",
       "    <tr>\n",
       "      <th>7</th>\n",
       "      <td>758</td>\n",
       "      <td>184</td>\n",
       "      <td>The Idiot</td>\n",
       "      <td>667</td>\n",
       "      <td>2003-04-08</td>\n",
       "      <td>183</td>\n",
       "      <td>4.250000</td>\n",
       "      <td>3.0</td>\n",
       "    </tr>\n",
       "    <tr>\n",
       "      <th>8</th>\n",
       "      <td>539</td>\n",
       "      <td>114</td>\n",
       "      <td>Rebecca</td>\n",
       "      <td>441</td>\n",
       "      <td>2007-12-01</td>\n",
       "      <td>317</td>\n",
       "      <td>4.000000</td>\n",
       "      <td>4.0</td>\n",
       "    </tr>\n",
       "    <tr>\n",
       "      <th>9</th>\n",
       "      <td>874</td>\n",
       "      <td>248</td>\n",
       "      <td>The Source</td>\n",
       "      <td>1080</td>\n",
       "      <td>2002-07-09</td>\n",
       "      <td>243</td>\n",
       "      <td>3.500000</td>\n",
       "      <td>2.0</td>\n",
       "    </tr>\n",
       "  </tbody>\n",
       "</table>\n",
       "</div>"
      ],
      "text/plain": [
       "   book_id  author_id                                              title  \\\n",
       "0      652          3          The Body in the Library (Miss Marple  #3)   \n",
       "1      273        352                                          Galápagos   \n",
       "2       51         54                           A Tree Grows in Brooklyn   \n",
       "3      951        540  Undaunted Courage: The Pioneering First Missio...   \n",
       "4      839        332                                        The Prophet   \n",
       "5       70        430                  American Gods (American Gods  #1)   \n",
       "6      350        501            Influence: The Psychology of Persuasion   \n",
       "7      758        184                                          The Idiot   \n",
       "8      539        114                                            Rebecca   \n",
       "9      874        248                                         The Source   \n",
       "\n",
       "   num_pages publication_date  publisher_id  mean_rating  review_num  \n",
       "0        191       2006-09-01            50     4.500000         2.0  \n",
       "1        324       1999-01-12            88     4.500000         2.0  \n",
       "2        496       2006-05-30           135     4.250000         5.0  \n",
       "3        592       2003-10-06           269     4.000000         2.0  \n",
       "4        127       2010-01-01           251     4.285714         4.0  \n",
       "5        635       2005-03-04           150     4.000000         5.0  \n",
       "6        320       2006-12-26           127     4.333333         3.0  \n",
       "7        667       2003-04-08           183     4.250000         3.0  \n",
       "8        441       2007-12-01           317     4.000000         4.0  \n",
       "9       1080       2002-07-09           243     3.500000         2.0  "
      ]
     },
     "execution_count": 6,
     "metadata": {},
     "output_type": "execute_result"
    }
   ],
   "source": [
    "query = 'select b.book_id, author_id, title, num_pages, publication_date, publisher_id, r.mean_rating, r2.review_num \\\n",
    "    from books as b \\\n",
    "    left join (select book_id, avg(rating) as mean_rating \\\n",
    "                from ratings \\\n",
    "                group by book_id) r on b.book_id=r.book_id \\\n",
    "    left join (select book_id, count(review_id) as review_num \\\n",
    "                from reviews \\\n",
    "                group by book_id ) r2 on b.book_id=r2.book_id '\n",
    "answer2 = pd.io.sql.read_sql(sql=text(query), con = con)\n",
    "answer2.head(10)"
   ]
  },
  {
   "cell_type": "markdown",
   "metadata": {},
   "source": [
    "Для каждой книги посчитали среднюю оценку mean_rating и количество обзоров review_num в таблице answer2"
   ]
  },
  {
   "cell_type": "markdown",
   "metadata": {},
   "source": [
    "#### Определите издательство, которое выпустило наибольшее число книг толще 50 страниц — так вы исключите из анализа брошюры;"
   ]
  },
  {
   "cell_type": "code",
   "execution_count": 7,
   "metadata": {},
   "outputs": [
    {
     "data": {
      "text/html": [
       "<div>\n",
       "<style scoped>\n",
       "    .dataframe tbody tr th:only-of-type {\n",
       "        vertical-align: middle;\n",
       "    }\n",
       "\n",
       "    .dataframe tbody tr th {\n",
       "        vertical-align: top;\n",
       "    }\n",
       "\n",
       "    .dataframe thead th {\n",
       "        text-align: right;\n",
       "    }\n",
       "</style>\n",
       "<table border=\"1\" class=\"dataframe\">\n",
       "  <thead>\n",
       "    <tr style=\"text-align: right;\">\n",
       "      <th></th>\n",
       "      <th>publisher_id</th>\n",
       "      <th>publisher</th>\n",
       "      <th>num_books</th>\n",
       "    </tr>\n",
       "  </thead>\n",
       "  <tbody>\n",
       "    <tr>\n",
       "      <th>0</th>\n",
       "      <td>212</td>\n",
       "      <td>Penguin Books</td>\n",
       "      <td>42</td>\n",
       "    </tr>\n",
       "    <tr>\n",
       "      <th>1</th>\n",
       "      <td>309</td>\n",
       "      <td>Vintage</td>\n",
       "      <td>31</td>\n",
       "    </tr>\n",
       "    <tr>\n",
       "      <th>2</th>\n",
       "      <td>116</td>\n",
       "      <td>Grand Central Publishing</td>\n",
       "      <td>25</td>\n",
       "    </tr>\n",
       "  </tbody>\n",
       "</table>\n",
       "</div>"
      ],
      "text/plain": [
       "   publisher_id                 publisher  num_books\n",
       "0           212             Penguin Books         42\n",
       "1           309                   Vintage         31\n",
       "2           116  Grand Central Publishing         25"
      ]
     },
     "execution_count": 7,
     "metadata": {},
     "output_type": "execute_result"
    }
   ],
   "source": [
    "query='select p.publisher_id, publisher, t1.num_books \\\n",
    "from publishers p \\\n",
    "inner join (select publisher_id, count(book_id) as num_books \\\n",
    "            from books \\\n",
    "            where num_pages >50 \\\n",
    "            group by publisher_id) t1 on t1.publisher_id=p.publisher_id \\\n",
    "order by t1.num_books DESC'\n",
    "answer3 = pd.io.sql.read_sql(sql=text(query), con = con)\n",
    "answer3.head(3)"
   ]
  },
  {
   "cell_type": "markdown",
   "metadata": {},
   "source": [
    "Издательство, выпустившее наибольшее количество книг толще 50 страниц - Penguin Books, 42 издания свыше 50 страниц."
   ]
  },
  {
   "cell_type": "markdown",
   "metadata": {},
   "source": [
    "#### Определите автора с самой высокой средней оценкой книг — учитывайте только книги с 50 и более оценками;"
   ]
  },
  {
   "cell_type": "code",
   "execution_count": 8,
   "metadata": {},
   "outputs": [
    {
     "data": {
      "text/html": [
       "<div>\n",
       "<style scoped>\n",
       "    .dataframe tbody tr th:only-of-type {\n",
       "        vertical-align: middle;\n",
       "    }\n",
       "\n",
       "    .dataframe tbody tr th {\n",
       "        vertical-align: top;\n",
       "    }\n",
       "\n",
       "    .dataframe thead th {\n",
       "        text-align: right;\n",
       "    }\n",
       "</style>\n",
       "<table border=\"1\" class=\"dataframe\">\n",
       "  <thead>\n",
       "    <tr style=\"text-align: right;\">\n",
       "      <th></th>\n",
       "      <th>author_id</th>\n",
       "      <th>author</th>\n",
       "      <th>mean_rating</th>\n",
       "    </tr>\n",
       "  </thead>\n",
       "  <tbody>\n",
       "    <tr>\n",
       "      <th>0</th>\n",
       "      <td>236</td>\n",
       "      <td>J.K. Rowling/Mary GrandPré</td>\n",
       "      <td>4.287097</td>\n",
       "    </tr>\n",
       "    <tr>\n",
       "      <th>1</th>\n",
       "      <td>402</td>\n",
       "      <td>Markus Zusak/Cao Xuân Việt Khương</td>\n",
       "      <td>4.264151</td>\n",
       "    </tr>\n",
       "    <tr>\n",
       "      <th>2</th>\n",
       "      <td>240</td>\n",
       "      <td>J.R.R. Tolkien</td>\n",
       "      <td>4.246914</td>\n",
       "    </tr>\n",
       "  </tbody>\n",
       "</table>\n",
       "</div>"
      ],
      "text/plain": [
       "   author_id                             author  mean_rating\n",
       "0        236         J.K. Rowling/Mary GrandPré     4.287097\n",
       "1        402  Markus Zusak/Cao Xuân Việt Khương     4.264151\n",
       "2        240                     J.R.R. Tolkien     4.246914"
      ]
     },
     "execution_count": 8,
     "metadata": {},
     "output_type": "execute_result"
    }
   ],
   "source": [
    "query='select a.author_id, a.author, t1.mean_rating \\\n",
    "from (select author_id, avg(r2.rating) as mean_rating \\\n",
    "        from books b \\\n",
    "        inner join ratings r2 on b.book_id =r2.book_id \\\n",
    "        where b.book_id in (select book_id \\\n",
    "                            from ratings r \\\n",
    "                            group by book_id \\\n",
    "                            having count(rating_id)>=50) \\\n",
    "        group by author_id) as t1 \\\n",
    "inner join author a on t1.author_id=a.author_id \\\n",
    "order by t1.mean_rating DESC'\n",
    "answer4 = pd.io.sql.read_sql(sql=text(query), con = con)\n",
    "answer4.head(3)"
   ]
  },
  {
   "cell_type": "markdown",
   "metadata": {},
   "source": [
    "Автор с самой высокой средней оценкой книг - J.K. Rowling/Mary GrandPré, оценка 4.29. Как раз видны недостатки архитектуры базы - двухголовый автор это вообще говоря неправильно."
   ]
  },
  {
   "cell_type": "markdown",
   "metadata": {},
   "source": [
    "#### Посчитайте среднее количество обзоров от пользователей, которые поставили больше 48 оценок."
   ]
  },
  {
   "cell_type": "code",
   "execution_count": 9,
   "metadata": {},
   "outputs": [
    {
     "data": {
      "text/html": [
       "<div>\n",
       "<style scoped>\n",
       "    .dataframe tbody tr th:only-of-type {\n",
       "        vertical-align: middle;\n",
       "    }\n",
       "\n",
       "    .dataframe tbody tr th {\n",
       "        vertical-align: top;\n",
       "    }\n",
       "\n",
       "    .dataframe thead th {\n",
       "        text-align: right;\n",
       "    }\n",
       "</style>\n",
       "<table border=\"1\" class=\"dataframe\">\n",
       "  <thead>\n",
       "    <tr style=\"text-align: right;\">\n",
       "      <th></th>\n",
       "      <th>avg</th>\n",
       "    </tr>\n",
       "  </thead>\n",
       "  <tbody>\n",
       "    <tr>\n",
       "      <th>0</th>\n",
       "      <td>24.0</td>\n",
       "    </tr>\n",
       "  </tbody>\n",
       "</table>\n",
       "</div>"
      ],
      "text/plain": [
       "    avg\n",
       "0  24.0"
      ]
     },
     "execution_count": 9,
     "metadata": {},
     "output_type": "execute_result"
    }
   ],
   "source": [
    "query='with table1 as (select username, count(review_id) as num_rev \\\n",
    "from reviews \\\n",
    "where username in (select username \\\n",
    "                    from ratings \\\n",
    "                    group by username \\\n",
    "                    having count(rating_id)>48) \\\n",
    "group by username) \\\n",
    "select avg(num_rev) \\\n",
    "from table1'\n",
    "answer5 = pd.io.sql.read_sql(sql=text(query), con = con)\n",
    "answer5.head(10)"
   ]
  },
  {
   "cell_type": "markdown",
   "metadata": {},
   "source": [
    "Пользователи поставившие 48 оценок в среднем написали 24 обзора."
   ]
  },
  {
   "cell_type": "markdown",
   "metadata": {},
   "source": [
    "#### Вывод\n",
    "\n",
    "Нам предоставлен доступ к базе данных, содержащей 1000 записей книг, преимущественно англоязычных. Не предоставлена информация о статистике заказов, ценах, клиентах и т.п. для полноценного анализа.\n",
    "\n",
    "По построению базы есть следующие соображения:\n",
    "\n",
    "1. Таблица книг построена таким образом, что может включать в себя лишь книги с одним автором. Книги с несколькими авторами можно обработать только объединяя авторов в одну строку, но это некорректная обработка.\n",
    "2. В таблице книг отсутствует информация о жанре, ISBN, языке издания\n",
    "3. В таблице книг не хватает поля \"под редакцией\" для книг-сборников статей/рассказов различных авторов. Можно также добавить какое-то поле/отдельную таблицу для связки серий книг и многотомников.\n",
    "4. Не хватает таблицы Users в которой бы были user_id и какие то данные о людях, осталяющих обзоры и оценки. Это бы позволило получать доп. данные и избегать путаницы при идентификации пользователя по не уникальному параметру username.\n",
    "5. Нет данных о датах оставления обзоров и оценок. Если для оценок отсутствие допустимо, то для обзоров дата может содержать полезную информацию.\n",
    "\n",
    "На основании базы данных построены выборки, позволившие установить, что:\n",
    "\n",
    "1. 819 книг из 1000 выпущены после 2000 года. Т.е. это какие-то современные книги.\n",
    "2. Построена сводная таблица с указанием количества обзоров и средней оценкой для каждой книги.\n",
    "3. Подготовлен список издательств по количеству публикаций в базе\n",
    "4. Подготовлен рейтинг авторов по средней оценке книг.\n",
    "5. Установлено, что активные пользователи в среднем оставляют 24 обзора на книги."
   ]
  }
 ],
 "metadata": {
  "ExecuteTimeLog": [
   {
    "duration": 585,
    "start_time": "2024-06-11T14:09:34.905Z"
   },
   {
    "duration": 6706,
    "start_time": "2024-06-11T14:10:18.591Z"
   },
   {
    "duration": 245,
    "start_time": "2024-06-11T14:10:25.299Z"
   },
   {
    "duration": 138,
    "start_time": "2024-06-11T14:18:32.459Z"
   },
   {
    "duration": 53,
    "start_time": "2024-06-11T14:19:15.075Z"
   },
   {
    "duration": 75,
    "start_time": "2024-06-11T14:25:10.264Z"
   },
   {
    "duration": 69,
    "start_time": "2024-06-11T14:25:22.271Z"
   },
   {
    "duration": 52,
    "start_time": "2024-06-11T14:25:59.311Z"
   },
   {
    "duration": 4,
    "start_time": "2024-06-11T14:26:04.919Z"
   },
   {
    "duration": 52,
    "start_time": "2024-06-11T14:26:22.350Z"
   },
   {
    "duration": 3,
    "start_time": "2024-06-11T14:26:37.062Z"
   },
   {
    "duration": 66,
    "start_time": "2024-06-11T14:27:10.439Z"
   },
   {
    "duration": 52,
    "start_time": "2024-06-11T14:28:16.606Z"
   },
   {
    "duration": 51,
    "start_time": "2024-06-11T14:29:42.861Z"
   },
   {
    "duration": 51,
    "start_time": "2024-06-11T14:30:55.295Z"
   },
   {
    "duration": 11,
    "start_time": "2024-06-11T15:01:32.227Z"
   },
   {
    "duration": 2,
    "start_time": "2024-06-11T15:01:45.066Z"
   },
   {
    "duration": 7,
    "start_time": "2024-06-11T15:01:52.360Z"
   },
   {
    "duration": 4,
    "start_time": "2024-06-11T15:01:59.103Z"
   },
   {
    "duration": 64,
    "start_time": "2024-06-11T15:02:51.228Z"
   },
   {
    "duration": 93,
    "start_time": "2024-06-11T15:03:04.766Z"
   },
   {
    "duration": 68,
    "start_time": "2024-06-11T15:03:10.764Z"
   },
   {
    "duration": 7,
    "start_time": "2024-06-11T15:03:18.207Z"
   },
   {
    "duration": 7,
    "start_time": "2024-06-11T15:03:29.844Z"
   },
   {
    "duration": 243,
    "start_time": "2024-06-11T15:04:56.692Z"
   },
   {
    "duration": 247,
    "start_time": "2024-06-11T15:05:21.958Z"
   },
   {
    "duration": 267,
    "start_time": "2024-06-11T15:06:02.676Z"
   },
   {
    "duration": 265,
    "start_time": "2024-06-11T15:06:21.468Z"
   },
   {
    "duration": 63,
    "start_time": "2024-06-11T15:34:17.749Z"
   },
   {
    "duration": 104,
    "start_time": "2024-06-11T15:34:34.036Z"
   },
   {
    "duration": 109,
    "start_time": "2024-06-11T15:38:33.775Z"
   },
   {
    "duration": 101,
    "start_time": "2024-06-11T15:38:45.115Z"
   },
   {
    "duration": 54,
    "start_time": "2024-06-11T15:54:06.762Z"
   },
   {
    "duration": 11,
    "start_time": "2024-06-11T16:26:34.161Z"
   },
   {
    "duration": 8,
    "start_time": "2024-06-11T16:27:01.809Z"
   },
   {
    "duration": 4,
    "start_time": "2024-06-11T16:33:56.037Z"
   },
   {
    "duration": 58,
    "start_time": "2024-06-11T16:34:27.109Z"
   },
   {
    "duration": 33,
    "start_time": "2024-06-11T16:34:35.485Z"
   },
   {
    "duration": 67,
    "start_time": "2024-06-11T16:35:04.164Z"
   },
   {
    "duration": 34,
    "start_time": "2024-06-11T16:35:17.429Z"
   },
   {
    "duration": 52,
    "start_time": "2024-06-11T16:37:15.691Z"
   },
   {
    "duration": 104,
    "start_time": "2024-06-11T16:39:25.000Z"
   },
   {
    "duration": 34,
    "start_time": "2024-06-11T16:54:59.787Z"
   },
   {
    "duration": 75,
    "start_time": "2024-06-11T16:55:37.594Z"
   },
   {
    "duration": 8660,
    "start_time": "2024-06-11T16:56:52.388Z"
   },
   {
    "duration": 164,
    "start_time": "2024-06-11T16:57:01.050Z"
   },
   {
    "duration": 27,
    "start_time": "2024-06-11T16:57:01.215Z"
   },
   {
    "duration": 99,
    "start_time": "2024-06-11T16:57:01.244Z"
   },
   {
    "duration": 31,
    "start_time": "2024-06-11T16:57:01.345Z"
   },
   {
    "duration": 34,
    "start_time": "2024-06-11T16:57:01.377Z"
   },
   {
    "duration": 48,
    "start_time": "2024-06-11T16:57:01.413Z"
   },
   {
    "duration": 7006,
    "start_time": "2024-06-11T16:57:09.963Z"
   },
   {
    "duration": 165,
    "start_time": "2024-06-11T16:57:16.970Z"
   },
   {
    "duration": 27,
    "start_time": "2024-06-11T16:57:17.137Z"
   },
   {
    "duration": 73,
    "start_time": "2024-06-11T16:57:17.166Z"
   },
   {
    "duration": 30,
    "start_time": "2024-06-11T16:57:17.241Z"
   },
   {
    "duration": 34,
    "start_time": "2024-06-11T16:57:17.272Z"
   },
   {
    "duration": 32,
    "start_time": "2024-06-11T16:57:17.307Z"
   },
   {
    "duration": 7325,
    "start_time": "2024-06-11T19:54:41.380Z"
   },
   {
    "duration": 177,
    "start_time": "2024-06-11T19:54:48.707Z"
   },
   {
    "duration": 30,
    "start_time": "2024-06-11T19:54:48.885Z"
   },
   {
    "duration": 79,
    "start_time": "2024-06-11T19:54:48.919Z"
   },
   {
    "duration": 35,
    "start_time": "2024-06-11T19:54:49.000Z"
   },
   {
    "duration": 39,
    "start_time": "2024-06-11T19:54:49.037Z"
   },
   {
    "duration": 35,
    "start_time": "2024-06-11T19:54:49.078Z"
   },
   {
    "duration": 77,
    "start_time": "2024-06-11T20:00:27.725Z"
   },
   {
    "duration": 77,
    "start_time": "2024-06-11T20:00:46.045Z"
   },
   {
    "duration": 81,
    "start_time": "2024-06-11T20:00:53.898Z"
   },
   {
    "duration": 77,
    "start_time": "2024-06-11T20:01:19.079Z"
   },
   {
    "duration": 120,
    "start_time": "2024-06-11T20:05:18.955Z"
   },
   {
    "duration": 45,
    "start_time": "2024-06-11T20:05:35.498Z"
   },
   {
    "duration": 540,
    "start_time": "2024-06-12T06:12:03.799Z"
   },
   {
    "duration": 3,
    "start_time": "2024-06-12T06:12:05.509Z"
   },
   {
    "duration": 7112,
    "start_time": "2024-06-12T06:12:07.874Z"
   },
   {
    "duration": 167,
    "start_time": "2024-06-12T06:12:20.146Z"
   },
   {
    "duration": 304,
    "start_time": "2024-06-12T06:12:45.365Z"
   },
   {
    "duration": 290,
    "start_time": "2024-06-12T06:13:21.418Z"
   },
   {
    "duration": 302,
    "start_time": "2024-06-12T06:14:23.693Z"
   },
   {
    "duration": 294,
    "start_time": "2024-06-12T06:14:36.398Z"
   },
   {
    "duration": 454,
    "start_time": "2024-06-12T06:14:48.212Z"
   },
   {
    "duration": 444,
    "start_time": "2024-06-12T06:19:48.550Z"
   },
   {
    "duration": 35,
    "start_time": "2024-06-12T06:56:17.767Z"
   },
   {
    "duration": 36,
    "start_time": "2024-06-12T07:10:51.888Z"
   },
   {
    "duration": 73,
    "start_time": "2024-06-12T07:37:27.617Z"
   },
   {
    "duration": 537,
    "start_time": "2024-06-12T08:09:19.888Z"
   },
   {
    "duration": 3,
    "start_time": "2024-06-12T08:09:20.427Z"
   },
   {
    "duration": 7248,
    "start_time": "2024-06-12T08:09:20.432Z"
   },
   {
    "duration": 475,
    "start_time": "2024-06-12T08:09:27.682Z"
   },
   {
    "duration": 28,
    "start_time": "2024-06-12T08:09:28.158Z"
   },
   {
    "duration": 73,
    "start_time": "2024-06-12T08:09:28.188Z"
   },
   {
    "duration": 34,
    "start_time": "2024-06-12T08:09:28.263Z"
   },
   {
    "duration": 35,
    "start_time": "2024-06-12T08:09:28.298Z"
   },
   {
    "duration": 33,
    "start_time": "2024-06-12T08:09:28.334Z"
   },
   {
    "duration": 458,
    "start_time": "2024-07-08T07:04:19.605Z"
   },
   {
    "duration": 3,
    "start_time": "2024-07-08T07:04:20.065Z"
   },
   {
    "duration": 7287,
    "start_time": "2024-07-08T07:04:20.069Z"
   },
   {
    "duration": 405,
    "start_time": "2024-07-08T07:04:27.358Z"
   },
   {
    "duration": 24,
    "start_time": "2024-07-08T07:04:27.765Z"
   },
   {
    "duration": 67,
    "start_time": "2024-07-08T07:04:27.790Z"
   },
   {
    "duration": 29,
    "start_time": "2024-07-08T07:04:27.859Z"
   },
   {
    "duration": 31,
    "start_time": "2024-07-08T07:04:27.890Z"
   },
   {
    "duration": 29,
    "start_time": "2024-07-08T07:04:27.922Z"
   }
  ],
  "kernelspec": {
   "display_name": "Python 3 (ipykernel)",
   "language": "python",
   "name": "python3"
  },
  "language_info": {
   "codemirror_mode": {
    "name": "ipython",
    "version": 3
   },
   "file_extension": ".py",
   "mimetype": "text/x-python",
   "name": "python",
   "nbconvert_exporter": "python",
   "pygments_lexer": "ipython3",
   "version": "3.9.18"
  },
  "toc": {
   "base_numbering": 1,
   "nav_menu": {},
   "number_sections": true,
   "sideBar": true,
   "skip_h1_title": true,
   "title_cell": "Table of Contents",
   "title_sidebar": "Contents",
   "toc_cell": false,
   "toc_position": {},
   "toc_section_display": true,
   "toc_window_display": false
  }
 },
 "nbformat": 4,
 "nbformat_minor": 2
}
